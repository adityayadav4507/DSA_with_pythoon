{
  "nbformat": 4,
  "nbformat_minor": 0,
  "metadata": {
    "colab": {
      "provenance": [],
      "authorship_tag": "ABX9TyMEGcJKrCslgyGI0UoEC+yf",
      "include_colab_link": true
    },
    "kernelspec": {
      "name": "python3",
      "display_name": "Python 3"
    },
    "language_info": {
      "name": "python"
    }
  },
  "cells": [
    {
      "cell_type": "markdown",
      "metadata": {
        "id": "view-in-github",
        "colab_type": "text"
      },
      "source": [
        "<a href=\"https://colab.research.google.com/github/adityayadav4507/DSA_with_pythoon/blob/main/DSA_LinkedList.ipynb\" target=\"_parent\"><img src=\"https://colab.research.google.com/assets/colab-badge.svg\" alt=\"Open In Colab\"/></a>"
      ]
    },
    {
      "cell_type": "code",
      "execution_count": null,
      "metadata": {
        "id": "kE8caAg8tuqa"
      },
      "outputs": [],
      "source": [
        "# making node\n",
        "\n",
        "class node:\n",
        "  def __init__(self,values):\n",
        "    self.data=values\n",
        "    self.next=None\n",
        "    self.n=0 #  no of node in LL\n",
        "\n"
      ]
    },
    {
      "cell_type": "code",
      "source": [
        "a=node(1)\n",
        "b=node(2)\n",
        "c=node(3)"
      ],
      "metadata": {
        "id": "rDHlGfZIucZp"
      },
      "execution_count": null,
      "outputs": []
    },
    {
      "cell_type": "code",
      "source": [
        "print(a.data)"
      ],
      "metadata": {
        "colab": {
          "base_uri": "https://localhost:8080/"
        },
        "id": "t0vODRxwu2l8",
        "outputId": "d0369299-fbf2-46ce-849c-00b8dfb9ffa5"
      },
      "execution_count": null,
      "outputs": [
        {
          "output_type": "stream",
          "name": "stdout",
          "text": [
            "1\n"
          ]
        }
      ]
    },
    {
      "cell_type": "code",
      "source": [
        "print(a.next)"
      ],
      "metadata": {
        "colab": {
          "base_uri": "https://localhost:8080/"
        },
        "id": "Rk3uJNgiuur9",
        "outputId": "e51e2310-233b-4ab3-dc4c-2fb77ceb1e95"
      },
      "execution_count": null,
      "outputs": [
        {
          "output_type": "stream",
          "name": "stdout",
          "text": [
            "None\n"
          ]
        }
      ]
    },
    {
      "cell_type": "code",
      "source": [
        "# we make node but this is not LinkedList\n",
        "# To make LinkedList store the address\n",
        "id(a) # address of a"
      ],
      "metadata": {
        "colab": {
          "base_uri": "https://localhost:8080/"
        },
        "id": "oK9HqORVu5bt",
        "outputId": "e133ddf9-27aa-42d4-ba8b-0164c6681c3e"
      },
      "execution_count": null,
      "outputs": [
        {
          "output_type": "execute_result",
          "data": {
            "text/plain": [
              "135792004731808"
            ]
          },
          "metadata": {},
          "execution_count": 148
        }
      ]
    },
    {
      "cell_type": "code",
      "source": [
        "# connect the node\n",
        "a.next=b\n",
        "b.next=c"
      ],
      "metadata": {
        "id": "lY6kDvD7vMW7"
      },
      "execution_count": null,
      "outputs": []
    },
    {
      "cell_type": "code",
      "source": [
        "print(a.next)"
      ],
      "metadata": {
        "colab": {
          "base_uri": "https://localhost:8080/"
        },
        "id": "VZy9BhXDvVyT",
        "outputId": "69983a66-fa13-4ce2-d69f-31137543f8ed"
      },
      "execution_count": null,
      "outputs": [
        {
          "output_type": "stream",
          "name": "stdout",
          "text": [
            "<__main__.node object at 0x7b808a349dc0>\n"
          ]
        }
      ]
    },
    {
      "cell_type": "code",
      "source": [
        "class LinkedList:\n",
        "\n",
        "  def __init__(self):\n",
        "   # empty linked list\n",
        "    self.head=None\n",
        "    self.n=0\n",
        "\n",
        "   # len of LL\n",
        "  def __len__(self):\n",
        "    return self.n\n",
        "\n",
        "# 1. insert head\n",
        "\n",
        "  def insert_head(self,values):\n",
        "    new_node=node(values) # new node\n",
        "    new_node.next=self.head # create connection\n",
        "    self.head=new_node # new head\n",
        "    self.n+=1 # node increase\n",
        "\n",
        "# 2. print LL\n",
        "\n",
        "  def __str__(self):\n",
        "    curr=self.head\n",
        "    res=' '\n",
        "    while curr is not None:\n",
        "      res+=str(curr.data)+'->'\n",
        "      curr=curr.next\n",
        "    return res[:-2]\n",
        "\n",
        "# 3. Insert from tail\n",
        "\n"
      ],
      "metadata": {
        "id": "mQWo9PzLo7cr"
      },
      "execution_count": null,
      "outputs": []
    },
    {
      "cell_type": "code",
      "source": [
        "L=LinkedList()"
      ],
      "metadata": {
        "id": "MiYWV-mZpiwR"
      },
      "execution_count": null,
      "outputs": []
    },
    {
      "cell_type": "code",
      "source": [
        "len(L)"
      ],
      "metadata": {
        "colab": {
          "base_uri": "https://localhost:8080/"
        },
        "id": "B7A2UItUrIDe",
        "outputId": "b526cd6b-3c2a-4750-c867-f8423e586285"
      },
      "execution_count": null,
      "outputs": [
        {
          "output_type": "execute_result",
          "data": {
            "text/plain": [
              "0"
            ]
          },
          "metadata": {},
          "execution_count": 153
        }
      ]
    },
    {
      "cell_type": "code",
      "source": [
        "L.insert_head(1)\n",
        "L.insert_head(2)\n",
        "L.insert_head(3)\n",
        "L.insert_head(4)"
      ],
      "metadata": {
        "id": "N4dUTEQKqiWB"
      },
      "execution_count": null,
      "outputs": []
    },
    {
      "cell_type": "code",
      "source": [
        "print(L)"
      ],
      "metadata": {
        "colab": {
          "base_uri": "https://localhost:8080/"
        },
        "id": "YxyerZHKrvoC",
        "outputId": "818a00e3-96d1-48da-c7fe-e887a9681bcb"
      },
      "execution_count": null,
      "outputs": [
        {
          "output_type": "stream",
          "name": "stdout",
          "text": [
            " 4->3->2->1\n"
          ]
        }
      ]
    }
  ]
}