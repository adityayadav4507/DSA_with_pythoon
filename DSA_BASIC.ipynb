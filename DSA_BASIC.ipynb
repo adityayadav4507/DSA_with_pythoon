{
  "nbformat": 4,
  "nbformat_minor": 0,
  "metadata": {
    "colab": {
      "provenance": [],
      "authorship_tag": "ABX9TyNknQe7b4un0lNFGfAiwO0j",
      "include_colab_link": true
    },
    "kernelspec": {
      "name": "python3",
      "display_name": "Python 3"
    },
    "language_info": {
      "name": "python"
    }
  },
  "cells": [
    {
      "cell_type": "markdown",
      "metadata": {
        "id": "view-in-github",
        "colab_type": "text"
      },
      "source": [
        "<a href=\"https://colab.research.google.com/github/adityayadav4507/DSA_with_pythoon/blob/main/DSA_BASIC.ipynb\" target=\"_parent\"><img src=\"https://colab.research.google.com/assets/colab-badge.svg\" alt=\"Open In Colab\"/></a>"
      ]
    },
    {
      "cell_type": "code",
      "execution_count": 1,
      "metadata": {
        "colab": {
          "base_uri": "https://localhost:8080/"
        },
        "id": "JdwzApVz0uqj",
        "outputId": "69c99e7e-65f6-4552-9ad7-e6c60bd43dcd"
      },
      "outputs": [
        {
          "output_type": "stream",
          "name": "stdout",
          "text": [
            "0 56\n",
            "1 88\n",
            "2 88\n",
            "3 88\n",
            "4 88\n",
            "5 120\n",
            "6 120\n",
            "7 120\n",
            "8 120\n",
            "9 184\n"
          ]
        }
      ],
      "source": [
        "import sys\n",
        "L=[]\n",
        "# dynamic array\n",
        "for i in range(10):\n",
        "  print(i,sys.getsizeof(L))\n",
        "  L.append(i)"
      ]
    },
    {
      "cell_type": "code",
      "source": [
        "import ctypes # run c code in python"
      ],
      "metadata": {
        "id": "Ys4jlupC1MwU"
      },
      "execution_count": 2,
      "outputs": []
    },
    {
      "cell_type": "code",
      "source": [
        "class MeraList:\n",
        "\n",
        "  def __init__(self):\n",
        "    self.size=1\n",
        "    self.n=0\n",
        "    # create a C type array with size =self.size\n",
        "\n",
        "    self.A=self.__make_array(self.size)\n",
        "\n",
        "  # 1. len fun\n",
        "  def __len__(self):\n",
        "    return self.n\n",
        "\n",
        "  # 2. append fun\n",
        "  def append(self,iteam):\n",
        "    if self.n == self.size:\n",
        "      # resize it\n",
        "      self.__resize(self.size*2)\n",
        "\n",
        "    self.A[self.n]=iteam # append the number\n",
        "    self.n+=1\n",
        "\n",
        "  # 3. resize\n",
        "  def __resize(self,new_size):\n",
        "    b=self.__make_array(new_size) # new array of double size\n",
        "    self.size=new_size # update size\n",
        "    for i in range(self.n): # no of iteams times it run\n",
        "      b[i]=self.A[i]\n",
        "\n",
        "    self.A=b # reassign of array\n",
        "    return self.A\n",
        "\n",
        "  # 4. print\n",
        "  def __str__(self):\n",
        "    st=''\n",
        "    for i in range(self.n):\n",
        "      st=st+ str(self.A[i])+','\n",
        "    st=st[:-1]\n",
        "\n",
        "    return '['+st+']'\n",
        "\n",
        "  # 5.pop\n",
        "  def pop(self):\n",
        "    if self.n==0:\n",
        "      return 'error'\n",
        "    else :\n",
        "      print(self.A[self.n-1])\n",
        "      self.n-=1\n",
        "  # 6. clear\n",
        "  def clear(self):\n",
        "    self.n=0\n",
        "    self.size=1\n",
        "\n",
        "  # 7.find\n",
        "  def find(self,iteam):\n",
        "    for i in range(self.n-1):\n",
        "      if iteam==self.A[i] :\n",
        "        return i\n",
        "    return 'not found'\n",
        "  # 8. insert\n",
        "  def insert(self,pos,iteam):\n",
        "    if self.n==self.size:\n",
        "      self.__resize(self.size*2)\n",
        "\n",
        "    for i in range(self.n,pos,-1):\n",
        "      self.A[i]=self.A[i-1]\n",
        "    self.A[pos]=iteam\n",
        "    self.n+=1\n",
        "\n",
        "  # 9. delete\n",
        "\n",
        "  def __delitem__(self,pos):\n",
        "    if 0 <= pos < self.n:\n",
        "      for i in range(pos,self.n-1):\n",
        "        self.A[i]=self.A[i+1]\n",
        "      self.n-=1\n",
        "  # 10 . remove\n",
        "  def remove(self,iteam):\n",
        "    pos=self.find(iteam)\n",
        "    if type(pos)==int:\n",
        "      self.__delitem__(pos)\n",
        "    else:\n",
        "      return pos\n",
        "\n",
        "  def __make_array(self,capacity):\n",
        "    # create a C type array(static , referential array) whose size is capacity\n",
        "    return (capacity*ctypes.py_object)()\n",
        "\n"
      ],
      "metadata": {
        "id": "ntOpPGCW_FjK"
      },
      "execution_count": 3,
      "outputs": []
    },
    {
      "cell_type": "code",
      "source": [
        "L=MeraList()\n"
      ],
      "metadata": {
        "id": "tm1mqAzdADgS"
      },
      "execution_count": 4,
      "outputs": []
    },
    {
      "cell_type": "code",
      "source": [
        "L.append(1)\n",
        "L.append(1)\n",
        "L.append(1)"
      ],
      "metadata": {
        "id": "KiStVEJNDz9Y"
      },
      "execution_count": 5,
      "outputs": []
    },
    {
      "cell_type": "code",
      "source": [
        "len(L)"
      ],
      "metadata": {
        "colab": {
          "base_uri": "https://localhost:8080/"
        },
        "id": "bejyMgoVBuVg",
        "outputId": "9adda6e2-5a98-49c0-c6ae-21fdc018c411"
      },
      "execution_count": 6,
      "outputs": [
        {
          "output_type": "execute_result",
          "data": {
            "text/plain": [
              "3"
            ]
          },
          "metadata": {},
          "execution_count": 6
        }
      ]
    },
    {
      "cell_type": "code",
      "source": [
        "print(L) # it handeles this internal print(str(L)) . str(L) fatuch the array but not display"
      ],
      "metadata": {
        "colab": {
          "base_uri": "https://localhost:8080/"
        },
        "id": "xRb-L_HiK7M5",
        "outputId": "a1700a41-752e-43f8-846e-034e3ae9b9ac"
      },
      "execution_count": 7,
      "outputs": [
        {
          "output_type": "stream",
          "name": "stdout",
          "text": [
            "[1,1,1]\n"
          ]
        }
      ]
    },
    {
      "cell_type": "code",
      "source": [
        "print(L)"
      ],
      "metadata": {
        "colab": {
          "base_uri": "https://localhost:8080/"
        },
        "id": "-oWAC3MwFzGY",
        "outputId": "cc0968bb-fd7a-49b1-9643-6174bdf922c6"
      },
      "execution_count": 8,
      "outputs": [
        {
          "output_type": "stream",
          "name": "stdout",
          "text": [
            "[1,1,1]\n"
          ]
        }
      ]
    },
    {
      "cell_type": "code",
      "source": [
        "L.pop()"
      ],
      "metadata": {
        "colab": {
          "base_uri": "https://localhost:8080/"
        },
        "id": "0NVFTJjZvEkS",
        "outputId": "44903872-3c83-4940-e8a8-2dc28fc56099"
      },
      "execution_count": 9,
      "outputs": [
        {
          "output_type": "stream",
          "name": "stdout",
          "text": [
            "1\n"
          ]
        }
      ]
    },
    {
      "cell_type": "code",
      "source": [
        "L.clear()"
      ],
      "metadata": {
        "id": "IDFauS1vxbJh"
      },
      "execution_count": 10,
      "outputs": []
    },
    {
      "cell_type": "code",
      "source": [
        "L.append(3)\n",
        "L.append(4)\n",
        "L.append(32)"
      ],
      "metadata": {
        "id": "l_wQGKTtx9If"
      },
      "execution_count": 11,
      "outputs": []
    },
    {
      "cell_type": "code",
      "source": [
        "L.find(4)"
      ],
      "metadata": {
        "colab": {
          "base_uri": "https://localhost:8080/"
        },
        "id": "1C4PovlbyIi9",
        "outputId": "101561c6-8cc3-4f03-9ad8-f43c879a5b41"
      },
      "execution_count": 12,
      "outputs": [
        {
          "output_type": "execute_result",
          "data": {
            "text/plain": [
              "1"
            ]
          },
          "metadata": {},
          "execution_count": 12
        }
      ]
    },
    {
      "cell_type": "code",
      "source": [
        "print(L)"
      ],
      "metadata": {
        "colab": {
          "base_uri": "https://localhost:8080/"
        },
        "id": "y87ZGBDK28Gz",
        "outputId": "b3ea25f6-e877-4797-933c-a102b4008572"
      },
      "execution_count": 13,
      "outputs": [
        {
          "output_type": "stream",
          "name": "stdout",
          "text": [
            "[3,4,32]\n"
          ]
        }
      ]
    },
    {
      "cell_type": "code",
      "source": [
        "L.insert(1,2)"
      ],
      "metadata": {
        "id": "jVvhAy2w2kPj"
      },
      "execution_count": 14,
      "outputs": []
    },
    {
      "cell_type": "code",
      "source": [
        "print(L)"
      ],
      "metadata": {
        "colab": {
          "base_uri": "https://localhost:8080/"
        },
        "id": "KyPwu6__2-ET",
        "outputId": "2b98ef07-176d-4fb6-c100-1c7ae607025e"
      },
      "execution_count": 15,
      "outputs": [
        {
          "output_type": "stream",
          "name": "stdout",
          "text": [
            "[3,2,4,32]\n"
          ]
        }
      ]
    },
    {
      "cell_type": "code",
      "source": [
        "del L[3]"
      ],
      "metadata": {
        "id": "KM7BjbdX4eIH"
      },
      "execution_count": 16,
      "outputs": []
    },
    {
      "cell_type": "code",
      "source": [
        "print(L)"
      ],
      "metadata": {
        "colab": {
          "base_uri": "https://localhost:8080/"
        },
        "id": "JUrygWTP4j2x",
        "outputId": "12a65080-85ab-49b1-891b-a70860f7d695"
      },
      "execution_count": 17,
      "outputs": [
        {
          "output_type": "stream",
          "name": "stdout",
          "text": [
            "[3,2,4]\n"
          ]
        }
      ]
    },
    {
      "cell_type": "code",
      "source": [
        "L.remove(2)"
      ],
      "metadata": {
        "id": "HvMgVOO-6LlK"
      },
      "execution_count": 18,
      "outputs": []
    },
    {
      "cell_type": "code",
      "source": [
        "print(L)"
      ],
      "metadata": {
        "colab": {
          "base_uri": "https://localhost:8080/"
        },
        "id": "9i0Ohsxu6Si9",
        "outputId": "5a29bec8-2ff2-4ebb-b834-ba7bf53c0a4a"
      },
      "execution_count": 19,
      "outputs": [
        {
          "output_type": "stream",
          "name": "stdout",
          "text": [
            "[3,4]\n"
          ]
        }
      ]
    }
  ]
}